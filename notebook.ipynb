{
 "cells": [
  {
   "attachments": {},
   "cell_type": "markdown",
   "metadata": {},
   "source": [
    "## a, b)"
   ]
  },
  {
   "attachments": {},
   "cell_type": "markdown",
   "metadata": {},
   "source": [
    "### Definindo o diretório de trabalho e importando os dados e bibliotecas necessárias."
   ]
  },
  {
   "cell_type": "code",
   "execution_count": 11,
   "metadata": {},
   "outputs": [
    {
     "data": {
      "text/html": [
       "<div>\n",
       "<style scoped>\n",
       "    .dataframe tbody tr th:only-of-type {\n",
       "        vertical-align: middle;\n",
       "    }\n",
       "\n",
       "    .dataframe tbody tr th {\n",
       "        vertical-align: top;\n",
       "    }\n",
       "\n",
       "    .dataframe thead th {\n",
       "        text-align: right;\n",
       "    }\n",
       "</style>\n",
       "<table border=\"1\" class=\"dataframe\">\n",
       "  <thead>\n",
       "    <tr style=\"text-align: right;\">\n",
       "      <th></th>\n",
       "      <th>região onde foi realizada a entrevista</th>\n",
       "      <th>idade: qual a sua idade (em anos completos)?</th>\n",
       "      <th>área</th>\n",
       "      <th>sexo</th>\n",
       "      <th>cor ou raça</th>\n",
       "      <th>última série escolar que concluiu com aprovação</th>\n",
       "      <th>até que série o seu pai estudou</th>\n",
       "      <th>até que série a sua mãe estudou</th>\n",
       "      <th>renda total do chefe da família no último mês</th>\n",
       "      <th>renda total de todos os moradores (parentes e agregados) no último mês</th>\n",
       "      <th>...</th>\n",
       "      <th>a roupa suja deve ser lavada em casa</th>\n",
       "      <th>uma mulher só se sente realizada quando tem filhos/as</th>\n",
       "      <th>a mulher casada deve satisfazer o marido na cama, mesmo quando não tem vontade</th>\n",
       "      <th>piada de preto é só brincadeira, não é racismo</th>\n",
       "      <th>um casal de dois homens vive um amor tão bonito quanto entre um homem e uma mulh</th>\n",
       "      <th>mulher que é agredida e continua com o parceiro gosta de apanhar</th>\n",
       "      <th>casamento de homem com homem ou de mulher com mulher deve ser proibido</th>\n",
       "      <th>a mulher que apanha em casa deve ficar quieta para não prejudicar os filhos</th>\n",
       "      <th>a questão da violência contra as mulheres recebe mais importância do que merece</th>\n",
       "      <th>tem mulher que é pra casar, tem mulher que é pra cama</th>\n",
       "    </tr>\n",
       "  </thead>\n",
       "  <tbody>\n",
       "    <tr>\n",
       "      <th>0</th>\n",
       "      <td>NORTE</td>\n",
       "      <td>34</td>\n",
       "      <td>urbano</td>\n",
       "      <td>feminino</td>\n",
       "      <td>parda</td>\n",
       "      <td>quinta série fundamental</td>\n",
       "      <td>analfabeto ou sem instrução</td>\n",
       "      <td>quarta série fundamental completa</td>\n",
       "      <td>1000.0</td>\n",
       "      <td>1490.0</td>\n",
       "      <td>...</td>\n",
       "      <td>concorda total</td>\n",
       "      <td>discorda total</td>\n",
       "      <td>discorda total</td>\n",
       "      <td>concorda parcial</td>\n",
       "      <td>concorda total</td>\n",
       "      <td>concorda total</td>\n",
       "      <td>concorda parcial</td>\n",
       "      <td>discorda total</td>\n",
       "      <td>concorda total</td>\n",
       "      <td>concorda total</td>\n",
       "    </tr>\n",
       "    <tr>\n",
       "      <th>1</th>\n",
       "      <td>NORTE</td>\n",
       "      <td>53</td>\n",
       "      <td>urbano</td>\n",
       "      <td>masculino</td>\n",
       "      <td>branca</td>\n",
       "      <td>médio completo</td>\n",
       "      <td>oitava série fundamental incompleta</td>\n",
       "      <td>oitava série fundamental incompleta</td>\n",
       "      <td>4800.0</td>\n",
       "      <td>4900.0</td>\n",
       "      <td>...</td>\n",
       "      <td>concorda total</td>\n",
       "      <td>discorda total</td>\n",
       "      <td>discorda total</td>\n",
       "      <td>concorda parcial</td>\n",
       "      <td>concorda parcial</td>\n",
       "      <td>concorda total</td>\n",
       "      <td>concorda total</td>\n",
       "      <td>concorda parcial</td>\n",
       "      <td>concorda parcial</td>\n",
       "      <td>concorda total</td>\n",
       "    </tr>\n",
       "    <tr>\n",
       "      <th>2</th>\n",
       "      <td>NORTE</td>\n",
       "      <td>31</td>\n",
       "      <td>urbano</td>\n",
       "      <td>masculino</td>\n",
       "      <td>preta</td>\n",
       "      <td>analfabeto ou sem instrução</td>\n",
       "      <td>analfabeto ou sem instrução</td>\n",
       "      <td>analfabeto ou sem instrução</td>\n",
       "      <td>678.0</td>\n",
       "      <td>678.0</td>\n",
       "      <td>...</td>\n",
       "      <td>discorda total</td>\n",
       "      <td>ns</td>\n",
       "      <td>discorda total</td>\n",
       "      <td>concorda parcial</td>\n",
       "      <td>discorda total</td>\n",
       "      <td>concorda total</td>\n",
       "      <td>discorda total</td>\n",
       "      <td>discorda total</td>\n",
       "      <td>discorda total</td>\n",
       "      <td>discorda total</td>\n",
       "    </tr>\n",
       "    <tr>\n",
       "      <th>3</th>\n",
       "      <td>NORDESTE</td>\n",
       "      <td>38</td>\n",
       "      <td>urbano</td>\n",
       "      <td>feminino</td>\n",
       "      <td>parda</td>\n",
       "      <td>sétima série fundamental</td>\n",
       "      <td>cursou superior sem concluir</td>\n",
       "      <td>segunda série médio</td>\n",
       "      <td>1000.0</td>\n",
       "      <td>1000.0</td>\n",
       "      <td>...</td>\n",
       "      <td>concorda total</td>\n",
       "      <td>concorda total</td>\n",
       "      <td>discorda parcial</td>\n",
       "      <td>discorda parcial</td>\n",
       "      <td>concorda total</td>\n",
       "      <td>discorda parcial</td>\n",
       "      <td>discorda parcial</td>\n",
       "      <td>concorda total</td>\n",
       "      <td>neutro</td>\n",
       "      <td>concorda parcial</td>\n",
       "    </tr>\n",
       "    <tr>\n",
       "      <th>4</th>\n",
       "      <td>NORDESTE</td>\n",
       "      <td>21</td>\n",
       "      <td>urbano</td>\n",
       "      <td>feminino</td>\n",
       "      <td>parda</td>\n",
       "      <td>primeira série médio</td>\n",
       "      <td>analfabeto ou sem instrução</td>\n",
       "      <td>analfabeto ou sem instrução</td>\n",
       "      <td>678.0</td>\n",
       "      <td>678.0</td>\n",
       "      <td>...</td>\n",
       "      <td>concorda parcial</td>\n",
       "      <td>discorda parcial</td>\n",
       "      <td>discorda parcial</td>\n",
       "      <td>concorda total</td>\n",
       "      <td>concorda parcial</td>\n",
       "      <td>concorda parcial</td>\n",
       "      <td>discorda parcial</td>\n",
       "      <td>concorda total</td>\n",
       "      <td>discorda total</td>\n",
       "      <td>discorda parcial</td>\n",
       "    </tr>\n",
       "  </tbody>\n",
       "</table>\n",
       "<p>5 rows × 40 columns</p>\n",
       "</div>"
      ],
      "text/plain": [
       "  região onde foi realizada a entrevista   \n",
       "0                                  NORTE  \\\n",
       "1                                  NORTE   \n",
       "2                                  NORTE   \n",
       "3                               NORDESTE   \n",
       "4                               NORDESTE   \n",
       "\n",
       "   idade: qual a sua idade (em anos completos)?    área       sexo   \n",
       "0                                            34  urbano   feminino  \\\n",
       "1                                            53  urbano  masculino   \n",
       "2                                            31  urbano  masculino   \n",
       "3                                            38  urbano   feminino   \n",
       "4                                            21  urbano   feminino   \n",
       "\n",
       "  cor ou raça última série escolar que concluiu com aprovação   \n",
       "0       parda                        quinta série fundamental  \\\n",
       "1      branca                                  médio completo   \n",
       "2       preta                     analfabeto ou sem instrução   \n",
       "3       parda                        sétima série fundamental   \n",
       "4       parda                            primeira série médio   \n",
       "\n",
       "       até que série o seu pai estudou      até que série a sua mãe estudou   \n",
       "0          analfabeto ou sem instrução    quarta série fundamental completa  \\\n",
       "1  oitava série fundamental incompleta  oitava série fundamental incompleta   \n",
       "2          analfabeto ou sem instrução          analfabeto ou sem instrução   \n",
       "3         cursou superior sem concluir                  segunda série médio   \n",
       "4          analfabeto ou sem instrução          analfabeto ou sem instrução   \n",
       "\n",
       "   renda total do chefe da família no último mês   \n",
       "0                                         1000.0  \\\n",
       "1                                         4800.0   \n",
       "2                                          678.0   \n",
       "3                                         1000.0   \n",
       "4                                          678.0   \n",
       "\n",
       "   renda total de todos os moradores (parentes e agregados) no último mês   \n",
       "0                                             1490.0                       \\\n",
       "1                                             4900.0                        \n",
       "2                                              678.0                        \n",
       "3                                             1000.0                        \n",
       "4                                              678.0                        \n",
       "\n",
       "   ...  a roupa suja deve ser lavada em casa   \n",
       "0  ...                        concorda total  \\\n",
       "1  ...                        concorda total   \n",
       "2  ...                        discorda total   \n",
       "3  ...                        concorda total   \n",
       "4  ...                      concorda parcial   \n",
       "\n",
       "   uma mulher só se sente realizada quando tem filhos/as   \n",
       "0                                     discorda total      \\\n",
       "1                                     discorda total       \n",
       "2                                                 ns       \n",
       "3                                     concorda total       \n",
       "4                                   discorda parcial       \n",
       "\n",
       "  a mulher casada deve satisfazer o marido na cama, mesmo quando não tem vontade   \n",
       "0                                     discorda total                              \\\n",
       "1                                     discorda total                               \n",
       "2                                     discorda total                               \n",
       "3                                   discorda parcial                               \n",
       "4                                   discorda parcial                               \n",
       "\n",
       "  piada de preto é só brincadeira, não é racismo   \n",
       "0                               concorda parcial  \\\n",
       "1                               concorda parcial   \n",
       "2                               concorda parcial   \n",
       "3                               discorda parcial   \n",
       "4                                 concorda total   \n",
       "\n",
       "  um casal de dois homens vive um amor tão bonito quanto entre um homem e uma mulh   \n",
       "0                                     concorda total                                \\\n",
       "1                                   concorda parcial                                 \n",
       "2                                     discorda total                                 \n",
       "3                                     concorda total                                 \n",
       "4                                   concorda parcial                                 \n",
       "\n",
       "  mulher que é agredida e continua com o parceiro gosta de apanhar   \n",
       "0                                     concorda total                \\\n",
       "1                                     concorda total                 \n",
       "2                                     concorda total                 \n",
       "3                                   discorda parcial                 \n",
       "4                                   concorda parcial                 \n",
       "\n",
       "  casamento de homem com homem ou de mulher com mulher deve ser proibido   \n",
       "0                                   concorda parcial                      \\\n",
       "1                                     concorda total                       \n",
       "2                                     discorda total                       \n",
       "3                                   discorda parcial                       \n",
       "4                                   discorda parcial                       \n",
       "\n",
       "  a mulher que apanha em casa deve ficar quieta para não prejudicar os filhos   \n",
       "0                                     discorda total                           \\\n",
       "1                                   concorda parcial                            \n",
       "2                                     discorda total                            \n",
       "3                                     concorda total                            \n",
       "4                                     concorda total                            \n",
       "\n",
       "  a questão da violência contra as mulheres recebe mais importância do que merece   \n",
       "0                                     concorda total                               \\\n",
       "1                                   concorda parcial                                \n",
       "2                                     discorda total                                \n",
       "3                                             neutro                                \n",
       "4                                     discorda total                                \n",
       "\n",
       "  tem mulher que é pra casar, tem mulher que é pra cama  \n",
       "0                                     concorda total     \n",
       "1                                     concorda total     \n",
       "2                                     discorda total     \n",
       "3                                   concorda parcial     \n",
       "4                                   discorda parcial     \n",
       "\n",
       "[5 rows x 40 columns]"
      ]
     },
     "execution_count": 11,
     "metadata": {},
     "output_type": "execute_result"
    }
   ],
   "source": [
    "import os\n",
    "import pandas as pd\n",
    "import chardet\n",
    "import plotly.express as px\n",
    "\n",
    "# caminho do diretório\n",
    "diretorio = r\"C:\\Users\\luisf\\OneDrive\\Desktop\\DATACAMP\\FGV_IBRE\"\n",
    "\n",
    "# Altera o diretório\n",
    "os.chdir(diretorio)\n",
    "\n",
    "\n",
    "# Leitura do arquivo para detecção do encoding\n",
    "with open('base_ipea.csv', 'rb') as f:\n",
    "    dados = f.read() \n",
    "\n",
    "resultado = chardet.detect(dados)\n",
    "\n",
    "encoding_detectado = resultado['encoding']\n",
    "\n",
    "    \n",
    "# encontrei o enconding utilizando o notepad++ apesar de poder ter feito utilizando a bibliotecas chardet\n",
    "base_ipea = pd.read_csv('base_ipea.csv', encoding= encoding_detectado, sep=';')\n",
    "base_ipea.head()"
   ]
  },
  {
   "attachments": {},
   "cell_type": "markdown",
   "metadata": {},
   "source": [
    "## c)"
   ]
  },
  {
   "attachments": {},
   "cell_type": "markdown",
   "metadata": {},
   "source": [
    "### Dimensões da base de dados"
   ]
  },
  {
   "cell_type": "code",
   "execution_count": 12,
   "metadata": {},
   "outputs": [
    {
     "data": {
      "text/plain": [
       "(3810, 40)"
      ]
     },
     "execution_count": 12,
     "metadata": {},
     "output_type": "execute_result"
    }
   ],
   "source": [
    "base_ipea.shape"
   ]
  },
  {
   "attachments": {},
   "cell_type": "markdown",
   "metadata": {},
   "source": [
    "Como visto acima utilizando o método .shape é de 3810 linhas e 40 colunas."
   ]
  },
  {
   "attachments": {},
   "cell_type": "markdown",
   "metadata": {},
   "source": [
    "## d, e)"
   ]
  },
  {
   "attachments": {},
   "cell_type": "markdown",
   "metadata": {},
   "source": [
    "### Frequência de pessoas por região e região mais frequênte"
   ]
  },
  {
   "cell_type": "code",
   "execution_count": 56,
   "metadata": {},
   "outputs": [
    {
     "data": {
      "text/html": [
       "<div>\n",
       "<style scoped>\n",
       "    .dataframe tbody tr th:only-of-type {\n",
       "        vertical-align: middle;\n",
       "    }\n",
       "\n",
       "    .dataframe tbody tr th {\n",
       "        vertical-align: top;\n",
       "    }\n",
       "\n",
       "    .dataframe thead th {\n",
       "        text-align: right;\n",
       "    }\n",
       "</style>\n",
       "<table border=\"1\" class=\"dataframe\">\n",
       "  <thead>\n",
       "    <tr style=\"text-align: right;\">\n",
       "      <th></th>\n",
       "      <th>regiao</th>\n",
       "      <th>frequencia</th>\n",
       "    </tr>\n",
       "  </thead>\n",
       "  <tbody>\n",
       "    <tr>\n",
       "      <th>0</th>\n",
       "      <td>SUDESTE</td>\n",
       "      <td>1605</td>\n",
       "    </tr>\n",
       "    <tr>\n",
       "      <th>1</th>\n",
       "      <td>NORDESTE</td>\n",
       "      <td>1065</td>\n",
       "    </tr>\n",
       "    <tr>\n",
       "      <th>2</th>\n",
       "      <td>SUL</td>\n",
       "      <td>555</td>\n",
       "    </tr>\n",
       "    <tr>\n",
       "      <th>3</th>\n",
       "      <td>NORTE</td>\n",
       "      <td>300</td>\n",
       "    </tr>\n",
       "    <tr>\n",
       "      <th>4</th>\n",
       "      <td>CENTRO-OESTE</td>\n",
       "      <td>285</td>\n",
       "    </tr>\n",
       "  </tbody>\n",
       "</table>\n",
       "</div>"
      ],
      "text/plain": [
       "         regiao  frequencia\n",
       "0       SUDESTE        1605\n",
       "1      NORDESTE        1065\n",
       "2           SUL         555\n",
       "3         NORTE         300\n",
       "4  CENTRO-OESTE         285"
      ]
     },
     "execution_count": 56,
     "metadata": {},
     "output_type": "execute_result"
    }
   ],
   "source": [
    "df_freq = base_ipea['região onde foi realizada a entrevista'].value_counts().reset_index()\n",
    "df_freq = df_freq.rename(columns={'região onde foi realizada a entrevista':\"regiao\", 'count':'frequencia'})\n",
    "df_freq"
   ]
  },
  {
   "cell_type": "code",
   "execution_count": 14,
   "metadata": {},
   "outputs": [
    {
     "data": {
      "application/vnd.plotly.v1+json": {
       "config": {
        "plotlyServerURL": "https://plot.ly"
       },
       "data": [
        {
         "alignmentgroup": "True",
         "hovertemplate": "Região=%{x}<br>Frequência=%{y}<extra></extra>",
         "legendgroup": "SUDESTE",
         "marker": {
          "color": "#636efa",
          "pattern": {
           "shape": ""
          }
         },
         "name": "SUDESTE",
         "offsetgroup": "SUDESTE",
         "orientation": "v",
         "showlegend": true,
         "textposition": "auto",
         "type": "bar",
         "x": [
          "SUDESTE"
         ],
         "xaxis": "x",
         "y": [
          1605
         ],
         "yaxis": "y"
        },
        {
         "alignmentgroup": "True",
         "hovertemplate": "Região=%{x}<br>Frequência=%{y}<extra></extra>",
         "legendgroup": "NORDESTE",
         "marker": {
          "color": "#EF553B",
          "pattern": {
           "shape": ""
          }
         },
         "name": "NORDESTE",
         "offsetgroup": "NORDESTE",
         "orientation": "v",
         "showlegend": true,
         "textposition": "auto",
         "type": "bar",
         "x": [
          "NORDESTE"
         ],
         "xaxis": "x",
         "y": [
          1065
         ],
         "yaxis": "y"
        },
        {
         "alignmentgroup": "True",
         "hovertemplate": "Região=%{x}<br>Frequência=%{y}<extra></extra>",
         "legendgroup": "SUL",
         "marker": {
          "color": "#00cc96",
          "pattern": {
           "shape": ""
          }
         },
         "name": "SUL",
         "offsetgroup": "SUL",
         "orientation": "v",
         "showlegend": true,
         "textposition": "auto",
         "type": "bar",
         "x": [
          "SUL"
         ],
         "xaxis": "x",
         "y": [
          555
         ],
         "yaxis": "y"
        },
        {
         "alignmentgroup": "True",
         "hovertemplate": "Região=%{x}<br>Frequência=%{y}<extra></extra>",
         "legendgroup": "NORTE",
         "marker": {
          "color": "#ab63fa",
          "pattern": {
           "shape": ""
          }
         },
         "name": "NORTE",
         "offsetgroup": "NORTE",
         "orientation": "v",
         "showlegend": true,
         "textposition": "auto",
         "type": "bar",
         "x": [
          "NORTE"
         ],
         "xaxis": "x",
         "y": [
          300
         ],
         "yaxis": "y"
        },
        {
         "alignmentgroup": "True",
         "hovertemplate": "Região=%{x}<br>Frequência=%{y}<extra></extra>",
         "legendgroup": "CENTRO-OESTE",
         "marker": {
          "color": "#FFA15A",
          "pattern": {
           "shape": ""
          }
         },
         "name": "CENTRO-OESTE",
         "offsetgroup": "CENTRO-OESTE",
         "orientation": "v",
         "showlegend": true,
         "textposition": "auto",
         "type": "bar",
         "x": [
          "CENTRO-OESTE"
         ],
         "xaxis": "x",
         "y": [
          285
         ],
         "yaxis": "y"
        }
       ],
       "layout": {
        "barmode": "relative",
        "legend": {
         "title": {
          "text": "Região"
         },
         "tracegroupgap": 0
        },
        "template": {
         "data": {
          "bar": [
           {
            "error_x": {
             "color": "#2a3f5f"
            },
            "error_y": {
             "color": "#2a3f5f"
            },
            "marker": {
             "line": {
              "color": "#E5ECF6",
              "width": 0.5
             },
             "pattern": {
              "fillmode": "overlay",
              "size": 10,
              "solidity": 0.2
             }
            },
            "type": "bar"
           }
          ],
          "barpolar": [
           {
            "marker": {
             "line": {
              "color": "#E5ECF6",
              "width": 0.5
             },
             "pattern": {
              "fillmode": "overlay",
              "size": 10,
              "solidity": 0.2
             }
            },
            "type": "barpolar"
           }
          ],
          "carpet": [
           {
            "aaxis": {
             "endlinecolor": "#2a3f5f",
             "gridcolor": "white",
             "linecolor": "white",
             "minorgridcolor": "white",
             "startlinecolor": "#2a3f5f"
            },
            "baxis": {
             "endlinecolor": "#2a3f5f",
             "gridcolor": "white",
             "linecolor": "white",
             "minorgridcolor": "white",
             "startlinecolor": "#2a3f5f"
            },
            "type": "carpet"
           }
          ],
          "choropleth": [
           {
            "colorbar": {
             "outlinewidth": 0,
             "ticks": ""
            },
            "type": "choropleth"
           }
          ],
          "contour": [
           {
            "colorbar": {
             "outlinewidth": 0,
             "ticks": ""
            },
            "colorscale": [
             [
              0,
              "#0d0887"
             ],
             [
              0.1111111111111111,
              "#46039f"
             ],
             [
              0.2222222222222222,
              "#7201a8"
             ],
             [
              0.3333333333333333,
              "#9c179e"
             ],
             [
              0.4444444444444444,
              "#bd3786"
             ],
             [
              0.5555555555555556,
              "#d8576b"
             ],
             [
              0.6666666666666666,
              "#ed7953"
             ],
             [
              0.7777777777777778,
              "#fb9f3a"
             ],
             [
              0.8888888888888888,
              "#fdca26"
             ],
             [
              1,
              "#f0f921"
             ]
            ],
            "type": "contour"
           }
          ],
          "contourcarpet": [
           {
            "colorbar": {
             "outlinewidth": 0,
             "ticks": ""
            },
            "type": "contourcarpet"
           }
          ],
          "heatmap": [
           {
            "colorbar": {
             "outlinewidth": 0,
             "ticks": ""
            },
            "colorscale": [
             [
              0,
              "#0d0887"
             ],
             [
              0.1111111111111111,
              "#46039f"
             ],
             [
              0.2222222222222222,
              "#7201a8"
             ],
             [
              0.3333333333333333,
              "#9c179e"
             ],
             [
              0.4444444444444444,
              "#bd3786"
             ],
             [
              0.5555555555555556,
              "#d8576b"
             ],
             [
              0.6666666666666666,
              "#ed7953"
             ],
             [
              0.7777777777777778,
              "#fb9f3a"
             ],
             [
              0.8888888888888888,
              "#fdca26"
             ],
             [
              1,
              "#f0f921"
             ]
            ],
            "type": "heatmap"
           }
          ],
          "heatmapgl": [
           {
            "colorbar": {
             "outlinewidth": 0,
             "ticks": ""
            },
            "colorscale": [
             [
              0,
              "#0d0887"
             ],
             [
              0.1111111111111111,
              "#46039f"
             ],
             [
              0.2222222222222222,
              "#7201a8"
             ],
             [
              0.3333333333333333,
              "#9c179e"
             ],
             [
              0.4444444444444444,
              "#bd3786"
             ],
             [
              0.5555555555555556,
              "#d8576b"
             ],
             [
              0.6666666666666666,
              "#ed7953"
             ],
             [
              0.7777777777777778,
              "#fb9f3a"
             ],
             [
              0.8888888888888888,
              "#fdca26"
             ],
             [
              1,
              "#f0f921"
             ]
            ],
            "type": "heatmapgl"
           }
          ],
          "histogram": [
           {
            "marker": {
             "pattern": {
              "fillmode": "overlay",
              "size": 10,
              "solidity": 0.2
             }
            },
            "type": "histogram"
           }
          ],
          "histogram2d": [
           {
            "colorbar": {
             "outlinewidth": 0,
             "ticks": ""
            },
            "colorscale": [
             [
              0,
              "#0d0887"
             ],
             [
              0.1111111111111111,
              "#46039f"
             ],
             [
              0.2222222222222222,
              "#7201a8"
             ],
             [
              0.3333333333333333,
              "#9c179e"
             ],
             [
              0.4444444444444444,
              "#bd3786"
             ],
             [
              0.5555555555555556,
              "#d8576b"
             ],
             [
              0.6666666666666666,
              "#ed7953"
             ],
             [
              0.7777777777777778,
              "#fb9f3a"
             ],
             [
              0.8888888888888888,
              "#fdca26"
             ],
             [
              1,
              "#f0f921"
             ]
            ],
            "type": "histogram2d"
           }
          ],
          "histogram2dcontour": [
           {
            "colorbar": {
             "outlinewidth": 0,
             "ticks": ""
            },
            "colorscale": [
             [
              0,
              "#0d0887"
             ],
             [
              0.1111111111111111,
              "#46039f"
             ],
             [
              0.2222222222222222,
              "#7201a8"
             ],
             [
              0.3333333333333333,
              "#9c179e"
             ],
             [
              0.4444444444444444,
              "#bd3786"
             ],
             [
              0.5555555555555556,
              "#d8576b"
             ],
             [
              0.6666666666666666,
              "#ed7953"
             ],
             [
              0.7777777777777778,
              "#fb9f3a"
             ],
             [
              0.8888888888888888,
              "#fdca26"
             ],
             [
              1,
              "#f0f921"
             ]
            ],
            "type": "histogram2dcontour"
           }
          ],
          "mesh3d": [
           {
            "colorbar": {
             "outlinewidth": 0,
             "ticks": ""
            },
            "type": "mesh3d"
           }
          ],
          "parcoords": [
           {
            "line": {
             "colorbar": {
              "outlinewidth": 0,
              "ticks": ""
             }
            },
            "type": "parcoords"
           }
          ],
          "pie": [
           {
            "automargin": true,
            "type": "pie"
           }
          ],
          "scatter": [
           {
            "fillpattern": {
             "fillmode": "overlay",
             "size": 10,
             "solidity": 0.2
            },
            "type": "scatter"
           }
          ],
          "scatter3d": [
           {
            "line": {
             "colorbar": {
              "outlinewidth": 0,
              "ticks": ""
             }
            },
            "marker": {
             "colorbar": {
              "outlinewidth": 0,
              "ticks": ""
             }
            },
            "type": "scatter3d"
           }
          ],
          "scattercarpet": [
           {
            "marker": {
             "colorbar": {
              "outlinewidth": 0,
              "ticks": ""
             }
            },
            "type": "scattercarpet"
           }
          ],
          "scattergeo": [
           {
            "marker": {
             "colorbar": {
              "outlinewidth": 0,
              "ticks": ""
             }
            },
            "type": "scattergeo"
           }
          ],
          "scattergl": [
           {
            "marker": {
             "colorbar": {
              "outlinewidth": 0,
              "ticks": ""
             }
            },
            "type": "scattergl"
           }
          ],
          "scattermapbox": [
           {
            "marker": {
             "colorbar": {
              "outlinewidth": 0,
              "ticks": ""
             }
            },
            "type": "scattermapbox"
           }
          ],
          "scatterpolar": [
           {
            "marker": {
             "colorbar": {
              "outlinewidth": 0,
              "ticks": ""
             }
            },
            "type": "scatterpolar"
           }
          ],
          "scatterpolargl": [
           {
            "marker": {
             "colorbar": {
              "outlinewidth": 0,
              "ticks": ""
             }
            },
            "type": "scatterpolargl"
           }
          ],
          "scatterternary": [
           {
            "marker": {
             "colorbar": {
              "outlinewidth": 0,
              "ticks": ""
             }
            },
            "type": "scatterternary"
           }
          ],
          "surface": [
           {
            "colorbar": {
             "outlinewidth": 0,
             "ticks": ""
            },
            "colorscale": [
             [
              0,
              "#0d0887"
             ],
             [
              0.1111111111111111,
              "#46039f"
             ],
             [
              0.2222222222222222,
              "#7201a8"
             ],
             [
              0.3333333333333333,
              "#9c179e"
             ],
             [
              0.4444444444444444,
              "#bd3786"
             ],
             [
              0.5555555555555556,
              "#d8576b"
             ],
             [
              0.6666666666666666,
              "#ed7953"
             ],
             [
              0.7777777777777778,
              "#fb9f3a"
             ],
             [
              0.8888888888888888,
              "#fdca26"
             ],
             [
              1,
              "#f0f921"
             ]
            ],
            "type": "surface"
           }
          ],
          "table": [
           {
            "cells": {
             "fill": {
              "color": "#EBF0F8"
             },
             "line": {
              "color": "white"
             }
            },
            "header": {
             "fill": {
              "color": "#C8D4E3"
             },
             "line": {
              "color": "white"
             }
            },
            "type": "table"
           }
          ]
         },
         "layout": {
          "annotationdefaults": {
           "arrowcolor": "#2a3f5f",
           "arrowhead": 0,
           "arrowwidth": 1
          },
          "autotypenumbers": "strict",
          "coloraxis": {
           "colorbar": {
            "outlinewidth": 0,
            "ticks": ""
           }
          },
          "colorscale": {
           "diverging": [
            [
             0,
             "#8e0152"
            ],
            [
             0.1,
             "#c51b7d"
            ],
            [
             0.2,
             "#de77ae"
            ],
            [
             0.3,
             "#f1b6da"
            ],
            [
             0.4,
             "#fde0ef"
            ],
            [
             0.5,
             "#f7f7f7"
            ],
            [
             0.6,
             "#e6f5d0"
            ],
            [
             0.7,
             "#b8e186"
            ],
            [
             0.8,
             "#7fbc41"
            ],
            [
             0.9,
             "#4d9221"
            ],
            [
             1,
             "#276419"
            ]
           ],
           "sequential": [
            [
             0,
             "#0d0887"
            ],
            [
             0.1111111111111111,
             "#46039f"
            ],
            [
             0.2222222222222222,
             "#7201a8"
            ],
            [
             0.3333333333333333,
             "#9c179e"
            ],
            [
             0.4444444444444444,
             "#bd3786"
            ],
            [
             0.5555555555555556,
             "#d8576b"
            ],
            [
             0.6666666666666666,
             "#ed7953"
            ],
            [
             0.7777777777777778,
             "#fb9f3a"
            ],
            [
             0.8888888888888888,
             "#fdca26"
            ],
            [
             1,
             "#f0f921"
            ]
           ],
           "sequentialminus": [
            [
             0,
             "#0d0887"
            ],
            [
             0.1111111111111111,
             "#46039f"
            ],
            [
             0.2222222222222222,
             "#7201a8"
            ],
            [
             0.3333333333333333,
             "#9c179e"
            ],
            [
             0.4444444444444444,
             "#bd3786"
            ],
            [
             0.5555555555555556,
             "#d8576b"
            ],
            [
             0.6666666666666666,
             "#ed7953"
            ],
            [
             0.7777777777777778,
             "#fb9f3a"
            ],
            [
             0.8888888888888888,
             "#fdca26"
            ],
            [
             1,
             "#f0f921"
            ]
           ]
          },
          "colorway": [
           "#636efa",
           "#EF553B",
           "#00cc96",
           "#ab63fa",
           "#FFA15A",
           "#19d3f3",
           "#FF6692",
           "#B6E880",
           "#FF97FF",
           "#FECB52"
          ],
          "font": {
           "color": "#2a3f5f"
          },
          "geo": {
           "bgcolor": "white",
           "lakecolor": "white",
           "landcolor": "#E5ECF6",
           "showlakes": true,
           "showland": true,
           "subunitcolor": "white"
          },
          "hoverlabel": {
           "align": "left"
          },
          "hovermode": "closest",
          "mapbox": {
           "style": "light"
          },
          "paper_bgcolor": "white",
          "plot_bgcolor": "#E5ECF6",
          "polar": {
           "angularaxis": {
            "gridcolor": "white",
            "linecolor": "white",
            "ticks": ""
           },
           "bgcolor": "#E5ECF6",
           "radialaxis": {
            "gridcolor": "white",
            "linecolor": "white",
            "ticks": ""
           }
          },
          "scene": {
           "xaxis": {
            "backgroundcolor": "#E5ECF6",
            "gridcolor": "white",
            "gridwidth": 2,
            "linecolor": "white",
            "showbackground": true,
            "ticks": "",
            "zerolinecolor": "white"
           },
           "yaxis": {
            "backgroundcolor": "#E5ECF6",
            "gridcolor": "white",
            "gridwidth": 2,
            "linecolor": "white",
            "showbackground": true,
            "ticks": "",
            "zerolinecolor": "white"
           },
           "zaxis": {
            "backgroundcolor": "#E5ECF6",
            "gridcolor": "white",
            "gridwidth": 2,
            "linecolor": "white",
            "showbackground": true,
            "ticks": "",
            "zerolinecolor": "white"
           }
          },
          "shapedefaults": {
           "line": {
            "color": "#2a3f5f"
           }
          },
          "ternary": {
           "aaxis": {
            "gridcolor": "white",
            "linecolor": "white",
            "ticks": ""
           },
           "baxis": {
            "gridcolor": "white",
            "linecolor": "white",
            "ticks": ""
           },
           "bgcolor": "#E5ECF6",
           "caxis": {
            "gridcolor": "white",
            "linecolor": "white",
            "ticks": ""
           }
          },
          "title": {
           "x": 0.05
          },
          "xaxis": {
           "automargin": true,
           "gridcolor": "white",
           "linecolor": "white",
           "ticks": "",
           "title": {
            "standoff": 15
           },
           "zerolinecolor": "white",
           "zerolinewidth": 2
          },
          "yaxis": {
           "automargin": true,
           "gridcolor": "white",
           "linecolor": "white",
           "ticks": "",
           "title": {
            "standoff": 15
           },
           "zerolinecolor": "white",
           "zerolinewidth": 2
          }
         }
        },
        "title": {
         "text": "Frequência de Pessoas por Região"
        },
        "xaxis": {
         "anchor": "y",
         "categoryarray": [
          "SUDESTE",
          "NORDESTE",
          "SUL",
          "NORTE",
          "CENTRO-OESTE"
         ],
         "categoryorder": "array",
         "domain": [
          0,
          1
         ],
         "title": {
          "text": "Região"
         }
        },
        "yaxis": {
         "anchor": "x",
         "domain": [
          0,
          1
         ],
         "title": {
          "text": "Frequência"
         }
        }
       }
      }
     },
     "metadata": {},
     "output_type": "display_data"
    }
   ],
   "source": [
    "# Gráfico das frequências.\n",
    "fig = px.bar(data_frame=df_freq, x = 'regiao', y = 'frequencia', color='regiao', title=\"Frequência de Pessoas por Região\",\n",
    "             labels={'regiao':'Região', 'frequencia':'Frequência'})\n",
    "\n",
    "fig.show()"
   ]
  },
  {
   "attachments": {},
   "cell_type": "markdown",
   "metadata": {},
   "source": [
    "Com base nas saídas acima, podemos ver que a região mais frequente e a que é mais frequêntada por pessoas é a região Sudeste."
   ]
  },
  {
   "attachments": {},
   "cell_type": "markdown",
   "metadata": {},
   "source": [
    "## f, g)"
   ]
  },
  {
   "attachments": {},
   "cell_type": "markdown",
   "metadata": {},
   "source": [
    "### Média Amostral, Moda, Mediana, Mínimo e Máximo da variável `idade`."
   ]
  },
  {
   "cell_type": "code",
   "execution_count": 15,
   "metadata": {},
   "outputs": [
    {
     "name": "stdout",
     "output_type": "stream",
     "text": [
      " Mínimo: 16 \n",
      " Máximo: 88 \n",
      " Média: 42.31784776902887 \n",
      " Mediana(): 41.0 \n",
      " Moda: 18\n"
     ]
    }
   ],
   "source": [
    "# encontra a idade máxima e mínima e calcula a média, mediana e moda.\n",
    "def medidas(df, incluir_qt = False, incluir_moda=True):\n",
    "    \"\"\" Calcula as medidas necessárias de uma variável númerica\"\"\"\n",
    "    min = df.min()\n",
    "    max = df.max()\n",
    "    media = df.mean()\n",
    "    mediana = df.median()\n",
    "    moda = df.mode()[0]\n",
    "    q1 = df.quantile(0.25)\n",
    "    q3 = df.quantile(0.75)\n",
    "    \n",
    "    if incluir_moda == True:\n",
    "        print(f' Mínimo: {min} \\n Máximo: {max} \\n Média: {media} \\n Mediana(): {mediana} \\n Moda: {moda}')\n",
    "    elif incluir_qt == True:\n",
    "        print(f' Mínimo: {min} \\n Máximo: {max} \\n Média: {media} \\n Mediana: {mediana} \\n Primeiro Quartil: {q1} \\n Terceiro Quartil: {q3}')  \n",
    "    else:\n",
    "       print(f' Mínimo: {min} \\n Máximo: {max} \\n Média: {media} \\n Mediana: {mediana} \\n Primeiro Quartil: {q1} \\n Terceiro Quartil: {q3} \\n Moda: {moda}')         \n",
    "    \n",
    "medidas(base_ipea['idade: qual a sua idade (em anos completos)?'])    "
   ]
  },
  {
   "attachments": {},
   "cell_type": "markdown",
   "metadata": {},
   "source": [
    "Como podemos ver, a idade mínima, e máxima são respectivamente 16 anos e 88 anos. Além disso, as medidas de centralidade implicam que a variável `idade` tem distribuição assimétrica negativa, dado que a moda é menor que a média e mediana."
   ]
  },
  {
   "attachments": {},
   "cell_type": "markdown",
   "metadata": {},
   "source": [
    "## h)"
   ]
  },
  {
   "cell_type": "code",
   "execution_count": 16,
   "metadata": {},
   "outputs": [
    {
     "data": {
      "text/html": [
       "<div>\n",
       "<style scoped>\n",
       "    .dataframe tbody tr th:only-of-type {\n",
       "        vertical-align: middle;\n",
       "    }\n",
       "\n",
       "    .dataframe tbody tr th {\n",
       "        vertical-align: top;\n",
       "    }\n",
       "\n",
       "    .dataframe thead th {\n",
       "        text-align: right;\n",
       "    }\n",
       "</style>\n",
       "<table border=\"1\" class=\"dataframe\">\n",
       "  <thead>\n",
       "    <tr style=\"text-align: right;\">\n",
       "      <th></th>\n",
       "      <th>faixa_etaria</th>\n",
       "      <th>idade: qual a sua idade (em anos completos)?</th>\n",
       "    </tr>\n",
       "  </thead>\n",
       "  <tbody>\n",
       "    <tr>\n",
       "      <th>0</th>\n",
       "      <td>Adultos</td>\n",
       "      <td>34</td>\n",
       "    </tr>\n",
       "    <tr>\n",
       "      <th>1</th>\n",
       "      <td>Adultos</td>\n",
       "      <td>53</td>\n",
       "    </tr>\n",
       "    <tr>\n",
       "      <th>2</th>\n",
       "      <td>Adultos</td>\n",
       "      <td>31</td>\n",
       "    </tr>\n",
       "    <tr>\n",
       "      <th>3</th>\n",
       "      <td>Adultos</td>\n",
       "      <td>38</td>\n",
       "    </tr>\n",
       "    <tr>\n",
       "      <th>4</th>\n",
       "      <td>Jovens</td>\n",
       "      <td>21</td>\n",
       "    </tr>\n",
       "    <tr>\n",
       "      <th>...</th>\n",
       "      <td>...</td>\n",
       "      <td>...</td>\n",
       "    </tr>\n",
       "    <tr>\n",
       "      <th>3805</th>\n",
       "      <td>Adultos</td>\n",
       "      <td>39</td>\n",
       "    </tr>\n",
       "    <tr>\n",
       "      <th>3806</th>\n",
       "      <td>Adultos</td>\n",
       "      <td>40</td>\n",
       "    </tr>\n",
       "    <tr>\n",
       "      <th>3807</th>\n",
       "      <td>Adultos</td>\n",
       "      <td>37</td>\n",
       "    </tr>\n",
       "    <tr>\n",
       "      <th>3808</th>\n",
       "      <td>Jovens</td>\n",
       "      <td>19</td>\n",
       "    </tr>\n",
       "    <tr>\n",
       "      <th>3809</th>\n",
       "      <td>Adultos</td>\n",
       "      <td>38</td>\n",
       "    </tr>\n",
       "  </tbody>\n",
       "</table>\n",
       "<p>3810 rows × 2 columns</p>\n",
       "</div>"
      ],
      "text/plain": [
       "     faixa_etaria  idade: qual a sua idade (em anos completos)?\n",
       "0         Adultos                                            34\n",
       "1         Adultos                                            53\n",
       "2         Adultos                                            31\n",
       "3         Adultos                                            38\n",
       "4          Jovens                                            21\n",
       "...           ...                                           ...\n",
       "3805      Adultos                                            39\n",
       "3806      Adultos                                            40\n",
       "3807      Adultos                                            37\n",
       "3808       Jovens                                            19\n",
       "3809      Adultos                                            38\n",
       "\n",
       "[3810 rows x 2 columns]"
      ]
     },
     "execution_count": 16,
     "metadata": {},
     "output_type": "execute_result"
    }
   ],
   "source": [
    "faixa_etaria = [\"Jovens\", \"Adultos\", \"Idosos\"]\n",
    "faixa_etaria_limites = [0 , 29, 59, 89]\n",
    "\n",
    "base_ipea['faixa_etaria'] = pd.cut(base_ipea['idade: qual a sua idade (em anos completos)?'], bins=faixa_etaria_limites, labels=faixa_etaria)\n",
    "base_ipea[['faixa_etaria', 'idade: qual a sua idade (em anos completos)?']]"
   ]
  },
  {
   "cell_type": "code",
   "execution_count": 57,
   "metadata": {},
   "outputs": [
    {
     "data": {
      "text/html": [
       "<div>\n",
       "<style scoped>\n",
       "    .dataframe tbody tr th:only-of-type {\n",
       "        vertical-align: middle;\n",
       "    }\n",
       "\n",
       "    .dataframe tbody tr th {\n",
       "        vertical-align: top;\n",
       "    }\n",
       "\n",
       "    .dataframe thead th {\n",
       "        text-align: right;\n",
       "    }\n",
       "</style>\n",
       "<table border=\"1\" class=\"dataframe\">\n",
       "  <thead>\n",
       "    <tr style=\"text-align: right;\">\n",
       "      <th></th>\n",
       "      <th>faixa_etaria</th>\n",
       "      <th>frequência</th>\n",
       "    </tr>\n",
       "  </thead>\n",
       "  <tbody>\n",
       "    <tr>\n",
       "      <th>0</th>\n",
       "      <td>Adultos</td>\n",
       "      <td>1995</td>\n",
       "    </tr>\n",
       "    <tr>\n",
       "      <th>1</th>\n",
       "      <td>Jovens</td>\n",
       "      <td>1087</td>\n",
       "    </tr>\n",
       "    <tr>\n",
       "      <th>2</th>\n",
       "      <td>Idosos</td>\n",
       "      <td>728</td>\n",
       "    </tr>\n",
       "  </tbody>\n",
       "</table>\n",
       "</div>"
      ],
      "text/plain": [
       "  faixa_etaria  frequência\n",
       "0      Adultos        1995\n",
       "1       Jovens        1087\n",
       "2       Idosos         728"
      ]
     },
     "execution_count": 57,
     "metadata": {},
     "output_type": "execute_result"
    }
   ],
   "source": [
    "base_ipea['faixa_etaria'].value_counts().reset_index().rename(columns={'count':'frequência'})"
   ]
  },
  {
   "cell_type": "code",
   "execution_count": 18,
   "metadata": {},
   "outputs": [
    {
     "data": {
      "application/vnd.plotly.v1+json": {
       "config": {
        "plotlyServerURL": "https://plot.ly"
       },
       "data": [
        {
         "alignmentgroup": "True",
         "hovertemplate": "Faixa Etária=%{x}<br>Frequência=%{y}<extra></extra>",
         "legendgroup": "Adultos",
         "marker": {
          "color": "#636efa",
          "pattern": {
           "shape": ""
          }
         },
         "name": "Adultos",
         "offsetgroup": "Adultos",
         "orientation": "v",
         "showlegend": true,
         "textposition": "auto",
         "type": "bar",
         "x": [
          "Adultos"
         ],
         "xaxis": "x",
         "y": [
          1995
         ],
         "yaxis": "y"
        },
        {
         "alignmentgroup": "True",
         "hovertemplate": "Faixa Etária=%{x}<br>Frequência=%{y}<extra></extra>",
         "legendgroup": "Jovens",
         "marker": {
          "color": "#EF553B",
          "pattern": {
           "shape": ""
          }
         },
         "name": "Jovens",
         "offsetgroup": "Jovens",
         "orientation": "v",
         "showlegend": true,
         "textposition": "auto",
         "type": "bar",
         "x": [
          "Jovens"
         ],
         "xaxis": "x",
         "y": [
          1087
         ],
         "yaxis": "y"
        },
        {
         "alignmentgroup": "True",
         "hovertemplate": "Faixa Etária=%{x}<br>Frequência=%{y}<extra></extra>",
         "legendgroup": "Idosos",
         "marker": {
          "color": "#00cc96",
          "pattern": {
           "shape": ""
          }
         },
         "name": "Idosos",
         "offsetgroup": "Idosos",
         "orientation": "v",
         "showlegend": true,
         "textposition": "auto",
         "type": "bar",
         "x": [
          "Idosos"
         ],
         "xaxis": "x",
         "y": [
          728
         ],
         "yaxis": "y"
        }
       ],
       "layout": {
        "barmode": "relative",
        "legend": {
         "title": {
          "text": "Faixa Etária"
         },
         "tracegroupgap": 0
        },
        "template": {
         "data": {
          "bar": [
           {
            "error_x": {
             "color": "#2a3f5f"
            },
            "error_y": {
             "color": "#2a3f5f"
            },
            "marker": {
             "line": {
              "color": "#E5ECF6",
              "width": 0.5
             },
             "pattern": {
              "fillmode": "overlay",
              "size": 10,
              "solidity": 0.2
             }
            },
            "type": "bar"
           }
          ],
          "barpolar": [
           {
            "marker": {
             "line": {
              "color": "#E5ECF6",
              "width": 0.5
             },
             "pattern": {
              "fillmode": "overlay",
              "size": 10,
              "solidity": 0.2
             }
            },
            "type": "barpolar"
           }
          ],
          "carpet": [
           {
            "aaxis": {
             "endlinecolor": "#2a3f5f",
             "gridcolor": "white",
             "linecolor": "white",
             "minorgridcolor": "white",
             "startlinecolor": "#2a3f5f"
            },
            "baxis": {
             "endlinecolor": "#2a3f5f",
             "gridcolor": "white",
             "linecolor": "white",
             "minorgridcolor": "white",
             "startlinecolor": "#2a3f5f"
            },
            "type": "carpet"
           }
          ],
          "choropleth": [
           {
            "colorbar": {
             "outlinewidth": 0,
             "ticks": ""
            },
            "type": "choropleth"
           }
          ],
          "contour": [
           {
            "colorbar": {
             "outlinewidth": 0,
             "ticks": ""
            },
            "colorscale": [
             [
              0,
              "#0d0887"
             ],
             [
              0.1111111111111111,
              "#46039f"
             ],
             [
              0.2222222222222222,
              "#7201a8"
             ],
             [
              0.3333333333333333,
              "#9c179e"
             ],
             [
              0.4444444444444444,
              "#bd3786"
             ],
             [
              0.5555555555555556,
              "#d8576b"
             ],
             [
              0.6666666666666666,
              "#ed7953"
             ],
             [
              0.7777777777777778,
              "#fb9f3a"
             ],
             [
              0.8888888888888888,
              "#fdca26"
             ],
             [
              1,
              "#f0f921"
             ]
            ],
            "type": "contour"
           }
          ],
          "contourcarpet": [
           {
            "colorbar": {
             "outlinewidth": 0,
             "ticks": ""
            },
            "type": "contourcarpet"
           }
          ],
          "heatmap": [
           {
            "colorbar": {
             "outlinewidth": 0,
             "ticks": ""
            },
            "colorscale": [
             [
              0,
              "#0d0887"
             ],
             [
              0.1111111111111111,
              "#46039f"
             ],
             [
              0.2222222222222222,
              "#7201a8"
             ],
             [
              0.3333333333333333,
              "#9c179e"
             ],
             [
              0.4444444444444444,
              "#bd3786"
             ],
             [
              0.5555555555555556,
              "#d8576b"
             ],
             [
              0.6666666666666666,
              "#ed7953"
             ],
             [
              0.7777777777777778,
              "#fb9f3a"
             ],
             [
              0.8888888888888888,
              "#fdca26"
             ],
             [
              1,
              "#f0f921"
             ]
            ],
            "type": "heatmap"
           }
          ],
          "heatmapgl": [
           {
            "colorbar": {
             "outlinewidth": 0,
             "ticks": ""
            },
            "colorscale": [
             [
              0,
              "#0d0887"
             ],
             [
              0.1111111111111111,
              "#46039f"
             ],
             [
              0.2222222222222222,
              "#7201a8"
             ],
             [
              0.3333333333333333,
              "#9c179e"
             ],
             [
              0.4444444444444444,
              "#bd3786"
             ],
             [
              0.5555555555555556,
              "#d8576b"
             ],
             [
              0.6666666666666666,
              "#ed7953"
             ],
             [
              0.7777777777777778,
              "#fb9f3a"
             ],
             [
              0.8888888888888888,
              "#fdca26"
             ],
             [
              1,
              "#f0f921"
             ]
            ],
            "type": "heatmapgl"
           }
          ],
          "histogram": [
           {
            "marker": {
             "pattern": {
              "fillmode": "overlay",
              "size": 10,
              "solidity": 0.2
             }
            },
            "type": "histogram"
           }
          ],
          "histogram2d": [
           {
            "colorbar": {
             "outlinewidth": 0,
             "ticks": ""
            },
            "colorscale": [
             [
              0,
              "#0d0887"
             ],
             [
              0.1111111111111111,
              "#46039f"
             ],
             [
              0.2222222222222222,
              "#7201a8"
             ],
             [
              0.3333333333333333,
              "#9c179e"
             ],
             [
              0.4444444444444444,
              "#bd3786"
             ],
             [
              0.5555555555555556,
              "#d8576b"
             ],
             [
              0.6666666666666666,
              "#ed7953"
             ],
             [
              0.7777777777777778,
              "#fb9f3a"
             ],
             [
              0.8888888888888888,
              "#fdca26"
             ],
             [
              1,
              "#f0f921"
             ]
            ],
            "type": "histogram2d"
           }
          ],
          "histogram2dcontour": [
           {
            "colorbar": {
             "outlinewidth": 0,
             "ticks": ""
            },
            "colorscale": [
             [
              0,
              "#0d0887"
             ],
             [
              0.1111111111111111,
              "#46039f"
             ],
             [
              0.2222222222222222,
              "#7201a8"
             ],
             [
              0.3333333333333333,
              "#9c179e"
             ],
             [
              0.4444444444444444,
              "#bd3786"
             ],
             [
              0.5555555555555556,
              "#d8576b"
             ],
             [
              0.6666666666666666,
              "#ed7953"
             ],
             [
              0.7777777777777778,
              "#fb9f3a"
             ],
             [
              0.8888888888888888,
              "#fdca26"
             ],
             [
              1,
              "#f0f921"
             ]
            ],
            "type": "histogram2dcontour"
           }
          ],
          "mesh3d": [
           {
            "colorbar": {
             "outlinewidth": 0,
             "ticks": ""
            },
            "type": "mesh3d"
           }
          ],
          "parcoords": [
           {
            "line": {
             "colorbar": {
              "outlinewidth": 0,
              "ticks": ""
             }
            },
            "type": "parcoords"
           }
          ],
          "pie": [
           {
            "automargin": true,
            "type": "pie"
           }
          ],
          "scatter": [
           {
            "fillpattern": {
             "fillmode": "overlay",
             "size": 10,
             "solidity": 0.2
            },
            "type": "scatter"
           }
          ],
          "scatter3d": [
           {
            "line": {
             "colorbar": {
              "outlinewidth": 0,
              "ticks": ""
             }
            },
            "marker": {
             "colorbar": {
              "outlinewidth": 0,
              "ticks": ""
             }
            },
            "type": "scatter3d"
           }
          ],
          "scattercarpet": [
           {
            "marker": {
             "colorbar": {
              "outlinewidth": 0,
              "ticks": ""
             }
            },
            "type": "scattercarpet"
           }
          ],
          "scattergeo": [
           {
            "marker": {
             "colorbar": {
              "outlinewidth": 0,
              "ticks": ""
             }
            },
            "type": "scattergeo"
           }
          ],
          "scattergl": [
           {
            "marker": {
             "colorbar": {
              "outlinewidth": 0,
              "ticks": ""
             }
            },
            "type": "scattergl"
           }
          ],
          "scattermapbox": [
           {
            "marker": {
             "colorbar": {
              "outlinewidth": 0,
              "ticks": ""
             }
            },
            "type": "scattermapbox"
           }
          ],
          "scatterpolar": [
           {
            "marker": {
             "colorbar": {
              "outlinewidth": 0,
              "ticks": ""
             }
            },
            "type": "scatterpolar"
           }
          ],
          "scatterpolargl": [
           {
            "marker": {
             "colorbar": {
              "outlinewidth": 0,
              "ticks": ""
             }
            },
            "type": "scatterpolargl"
           }
          ],
          "scatterternary": [
           {
            "marker": {
             "colorbar": {
              "outlinewidth": 0,
              "ticks": ""
             }
            },
            "type": "scatterternary"
           }
          ],
          "surface": [
           {
            "colorbar": {
             "outlinewidth": 0,
             "ticks": ""
            },
            "colorscale": [
             [
              0,
              "#0d0887"
             ],
             [
              0.1111111111111111,
              "#46039f"
             ],
             [
              0.2222222222222222,
              "#7201a8"
             ],
             [
              0.3333333333333333,
              "#9c179e"
             ],
             [
              0.4444444444444444,
              "#bd3786"
             ],
             [
              0.5555555555555556,
              "#d8576b"
             ],
             [
              0.6666666666666666,
              "#ed7953"
             ],
             [
              0.7777777777777778,
              "#fb9f3a"
             ],
             [
              0.8888888888888888,
              "#fdca26"
             ],
             [
              1,
              "#f0f921"
             ]
            ],
            "type": "surface"
           }
          ],
          "table": [
           {
            "cells": {
             "fill": {
              "color": "#EBF0F8"
             },
             "line": {
              "color": "white"
             }
            },
            "header": {
             "fill": {
              "color": "#C8D4E3"
             },
             "line": {
              "color": "white"
             }
            },
            "type": "table"
           }
          ]
         },
         "layout": {
          "annotationdefaults": {
           "arrowcolor": "#2a3f5f",
           "arrowhead": 0,
           "arrowwidth": 1
          },
          "autotypenumbers": "strict",
          "coloraxis": {
           "colorbar": {
            "outlinewidth": 0,
            "ticks": ""
           }
          },
          "colorscale": {
           "diverging": [
            [
             0,
             "#8e0152"
            ],
            [
             0.1,
             "#c51b7d"
            ],
            [
             0.2,
             "#de77ae"
            ],
            [
             0.3,
             "#f1b6da"
            ],
            [
             0.4,
             "#fde0ef"
            ],
            [
             0.5,
             "#f7f7f7"
            ],
            [
             0.6,
             "#e6f5d0"
            ],
            [
             0.7,
             "#b8e186"
            ],
            [
             0.8,
             "#7fbc41"
            ],
            [
             0.9,
             "#4d9221"
            ],
            [
             1,
             "#276419"
            ]
           ],
           "sequential": [
            [
             0,
             "#0d0887"
            ],
            [
             0.1111111111111111,
             "#46039f"
            ],
            [
             0.2222222222222222,
             "#7201a8"
            ],
            [
             0.3333333333333333,
             "#9c179e"
            ],
            [
             0.4444444444444444,
             "#bd3786"
            ],
            [
             0.5555555555555556,
             "#d8576b"
            ],
            [
             0.6666666666666666,
             "#ed7953"
            ],
            [
             0.7777777777777778,
             "#fb9f3a"
            ],
            [
             0.8888888888888888,
             "#fdca26"
            ],
            [
             1,
             "#f0f921"
            ]
           ],
           "sequentialminus": [
            [
             0,
             "#0d0887"
            ],
            [
             0.1111111111111111,
             "#46039f"
            ],
            [
             0.2222222222222222,
             "#7201a8"
            ],
            [
             0.3333333333333333,
             "#9c179e"
            ],
            [
             0.4444444444444444,
             "#bd3786"
            ],
            [
             0.5555555555555556,
             "#d8576b"
            ],
            [
             0.6666666666666666,
             "#ed7953"
            ],
            [
             0.7777777777777778,
             "#fb9f3a"
            ],
            [
             0.8888888888888888,
             "#fdca26"
            ],
            [
             1,
             "#f0f921"
            ]
           ]
          },
          "colorway": [
           "#636efa",
           "#EF553B",
           "#00cc96",
           "#ab63fa",
           "#FFA15A",
           "#19d3f3",
           "#FF6692",
           "#B6E880",
           "#FF97FF",
           "#FECB52"
          ],
          "font": {
           "color": "#2a3f5f"
          },
          "geo": {
           "bgcolor": "white",
           "lakecolor": "white",
           "landcolor": "#E5ECF6",
           "showlakes": true,
           "showland": true,
           "subunitcolor": "white"
          },
          "hoverlabel": {
           "align": "left"
          },
          "hovermode": "closest",
          "mapbox": {
           "style": "light"
          },
          "paper_bgcolor": "white",
          "plot_bgcolor": "#E5ECF6",
          "polar": {
           "angularaxis": {
            "gridcolor": "white",
            "linecolor": "white",
            "ticks": ""
           },
           "bgcolor": "#E5ECF6",
           "radialaxis": {
            "gridcolor": "white",
            "linecolor": "white",
            "ticks": ""
           }
          },
          "scene": {
           "xaxis": {
            "backgroundcolor": "#E5ECF6",
            "gridcolor": "white",
            "gridwidth": 2,
            "linecolor": "white",
            "showbackground": true,
            "ticks": "",
            "zerolinecolor": "white"
           },
           "yaxis": {
            "backgroundcolor": "#E5ECF6",
            "gridcolor": "white",
            "gridwidth": 2,
            "linecolor": "white",
            "showbackground": true,
            "ticks": "",
            "zerolinecolor": "white"
           },
           "zaxis": {
            "backgroundcolor": "#E5ECF6",
            "gridcolor": "white",
            "gridwidth": 2,
            "linecolor": "white",
            "showbackground": true,
            "ticks": "",
            "zerolinecolor": "white"
           }
          },
          "shapedefaults": {
           "line": {
            "color": "#2a3f5f"
           }
          },
          "ternary": {
           "aaxis": {
            "gridcolor": "white",
            "linecolor": "white",
            "ticks": ""
           },
           "baxis": {
            "gridcolor": "white",
            "linecolor": "white",
            "ticks": ""
           },
           "bgcolor": "#E5ECF6",
           "caxis": {
            "gridcolor": "white",
            "linecolor": "white",
            "ticks": ""
           }
          },
          "title": {
           "x": 0.05
          },
          "xaxis": {
           "automargin": true,
           "gridcolor": "white",
           "linecolor": "white",
           "ticks": "",
           "title": {
            "standoff": 15
           },
           "zerolinecolor": "white",
           "zerolinewidth": 2
          },
          "yaxis": {
           "automargin": true,
           "gridcolor": "white",
           "linecolor": "white",
           "ticks": "",
           "title": {
            "standoff": 15
           },
           "zerolinecolor": "white",
           "zerolinewidth": 2
          }
         }
        },
        "title": {
         "text": "Número de Pessoas por Faixa Etária"
        },
        "xaxis": {
         "anchor": "y",
         "categoryarray": [
          "Adultos",
          "Jovens",
          "Idosos"
         ],
         "categoryorder": "array",
         "domain": [
          0,
          1
         ],
         "title": {
          "text": "Faixa Etária"
         }
        },
        "yaxis": {
         "anchor": "x",
         "domain": [
          0,
          1
         ],
         "title": {
          "text": "Frequência"
         }
        }
       }
      }
     },
     "metadata": {},
     "output_type": "display_data"
    }
   ],
   "source": [
    "px.bar(data_frame=base_ipea['faixa_etaria'].value_counts().reset_index(), x='faixa_etaria', y='count', color='faixa_etaria', title='Número de Pessoas por Faixa Etária',\n",
    "       labels={'faixa_etaria':'Faixa Etária', 'count':'Frequência'})"
   ]
  },
  {
   "attachments": {},
   "cell_type": "markdown",
   "metadata": {},
   "source": [
    "Conforme as saídas acima, verificamos que a maioria da amostra é composta por Adultos."
   ]
  },
  {
   "attachments": {},
   "cell_type": "markdown",
   "metadata": {},
   "source": [
    "# i)"
   ]
  },
  {
   "cell_type": "code",
   "execution_count": 19,
   "metadata": {},
   "outputs": [
    {
     "name": "stdout",
     "output_type": "stream",
     "text": [
      " Mínimo: 150.0 \n",
      " Máximo: 19000.0 \n",
      " Média: 1801.4782211392019 \n",
      " Mediana: 1400.0 \n",
      " Primeiro Quartil: 800.0 \n",
      " Terceiro Quartil: 2150.0\n"
     ]
    }
   ],
   "source": [
    "# calcula as medidas conforme o enunciado, eu poderia ter usado o .describe() aqui, já que ele calcula todas as medidas pedidas\n",
    "# porém como a função medidas() ja estava praticamente feita para esse fim relsovi utiliza-la para manter o codigo mais conciso\n",
    "\n",
    "medidas(base_ipea['renda total de todos os moradores (parentes e agregados) no último mês'], incluir_moda=False, incluir_qt=True)"
   ]
  },
  {
   "attachments": {},
   "cell_type": "markdown",
   "metadata": {},
   "source": [
    "\n",
    "O interessante dessas medidas, é que se utilizarmos um box-plot, ou calcularmos os outliers utilizando: $Q1 - (1.5*IQR)$ para os outliers inferiores, e $Q3 - (1.5*IQR)$ para os outliers superiores, em que o $IQR=Q3-Q1$ é a amplitute interquartil, encontramos que o valor mínimo R$ 150,00 não é considerado como outlier, mas o valor máximo de R$ 19.000,00 é considerado, isso pode indicar desigualdade de renda, além disso, a mediana da renda total de todos os moradores (parentes e agregados) no último mês é de R$ 1.400,00, o que nos ajuda a reforçar a hipótese de que pode existir desigualdade social nesta amostra. Vale ressaltar que a mediana é uma medida mais confiável aqui, pois a média é mais sensível aos outliers com valores extremos.  \n",
    "<br>\n",
    "<br>\n",
    "\n",
    "##  j)\n",
    "O que podemos análisar sobre o primeiro e terceiro quartil, vai de encontro com o que foi apontado acima. O primeiro quartil indíca que 25% das rendas registradas estão abaixo de R$ 800,00 e 75% estão acima deste valor, ao ponto que pelo terceiro quartil 75% das rendas registradas estão abaixo de R$ 2.150,00 e 25% estão acima deste valor, o que ajuda reforçar a hipótese de desigualdade social.\n"
   ]
  },
  {
   "attachments": {},
   "cell_type": "markdown",
   "metadata": {},
   "source": [
    "# l)"
   ]
  },
  {
   "attachments": {},
   "cell_type": "markdown",
   "metadata": {},
   "source": [
    "### Coeficiente de Variação"
   ]
  },
  {
   "cell_type": "code",
   "execution_count": 32,
   "metadata": {},
   "outputs": [
    {
     "name": "stdout",
     "output_type": "stream",
     "text": [
      "O coeficiente de variação para a variável idade é: 0.399740573585868 e para variável renda é: 0.8551213791858479\n"
     ]
    }
   ],
   "source": [
    "def coeficiente_variacao(df):\n",
    "    \"\"\"\n",
    "    Calcula o coeficente de variação\n",
    "    \"\"\"   \n",
    "       \n",
    "    if len(df) < 2:\n",
    "        return None\n",
    "\n",
    "    media = df.mean()\n",
    "    desvio_padrao = df.std()\n",
    "\n",
    "    cv = (desvio_padrao / media)\n",
    "    return cv\n",
    "\n",
    "cv_idade = coeficiente_variacao(base_ipea['idade: qual a sua idade (em anos completos)?'])\n",
    "cv_renda = coeficiente_variacao(base_ipea['renda total de todos os moradores (parentes e agregados) no último mês'])\n",
    "\n",
    "print(f'O coeficiente de variação para a variável idade é: {cv_idade} e para variável renda é: {cv_renda}')"
   ]
  },
  {
   "attachments": {},
   "cell_type": "markdown",
   "metadata": {},
   "source": [
    "Para variável idade o coeficiente de variação é relativamente baixo o que nos diz que os valores valores de idade estão próximos da média, com uma dispersão relativamente baixa em relação à a mesma. Portanto, existe uma menor variabilidade na variável idade. \n",
    "\n",
    "Já para renda, o oposto ocorre, os valores de renda estão mais dispersos em relação à média, apresentando assim, uma maior variabilidade. Portanto, podemos dizer que os dados de renda possuem uma dispersão maior em relação à média, indicando uma variabilidade mais elevada, o que era de se esperar com base na análise da renda."
   ]
  },
  {
   "attachments": {},
   "cell_type": "markdown",
   "metadata": {},
   "source": [
    "## m) Calcule o desvio-padrão para a renda de acordo com cada região do Brasil"
   ]
  },
  {
   "cell_type": "code",
   "execution_count": 54,
   "metadata": {},
   "outputs": [
    {
     "data": {
      "text/html": [
       "<div>\n",
       "<style scoped>\n",
       "    .dataframe tbody tr th:only-of-type {\n",
       "        vertical-align: middle;\n",
       "    }\n",
       "\n",
       "    .dataframe tbody tr th {\n",
       "        vertical-align: top;\n",
       "    }\n",
       "\n",
       "    .dataframe thead th {\n",
       "        text-align: right;\n",
       "    }\n",
       "</style>\n",
       "<table border=\"1\" class=\"dataframe\">\n",
       "  <thead>\n",
       "    <tr style=\"text-align: right;\">\n",
       "      <th></th>\n",
       "      <th>Região</th>\n",
       "      <th>Desvio Padrão</th>\n",
       "    </tr>\n",
       "  </thead>\n",
       "  <tbody>\n",
       "    <tr>\n",
       "      <th>0</th>\n",
       "      <td>CENTRO-OESTE</td>\n",
       "      <td>1343.430396</td>\n",
       "    </tr>\n",
       "    <tr>\n",
       "      <th>1</th>\n",
       "      <td>NORDESTE</td>\n",
       "      <td>1189.550086</td>\n",
       "    </tr>\n",
       "    <tr>\n",
       "      <th>2</th>\n",
       "      <td>NORTE</td>\n",
       "      <td>1757.768796</td>\n",
       "    </tr>\n",
       "    <tr>\n",
       "      <th>3</th>\n",
       "      <td>SUDESTE</td>\n",
       "      <td>1670.977045</td>\n",
       "    </tr>\n",
       "    <tr>\n",
       "      <th>4</th>\n",
       "      <td>SUL</td>\n",
       "      <td>1316.884815</td>\n",
       "    </tr>\n",
       "  </tbody>\n",
       "</table>\n",
       "</div>"
      ],
      "text/plain": [
       "         Região  Desvio Padrão\n",
       "0  CENTRO-OESTE    1343.430396\n",
       "1      NORDESTE    1189.550086\n",
       "2         NORTE    1757.768796\n",
       "3       SUDESTE    1670.977045\n",
       "4           SUL    1316.884815"
      ]
     },
     "execution_count": 54,
     "metadata": {},
     "output_type": "execute_result"
    }
   ],
   "source": [
    "std_df = base_ipea.groupby('região onde foi realizada a entrevista')['renda total de todos os moradores (parentes e agregados) no último mês'].agg('std').reset_index()\n",
    "std_df = std_df.rename(columns={'região onde foi realizada a entrevista':'Região','renda total de todos os moradores (parentes e agregados) no último mês':'Desvio Padrão'})\n",
    "std_df"
   ]
  },
  {
   "attachments": {},
   "cell_type": "markdown",
   "metadata": {},
   "source": [
    "Como vemos na saída, as pessoas da região Nordeste possuem renda com um comportamento mais homogêneo, dado que o desvio padrão é o menor entre as regiões."
   ]
  }
 ],
 "metadata": {
  "kernelspec": {
   "display_name": "base",
   "language": "python",
   "name": "python3"
  },
  "language_info": {
   "codemirror_mode": {
    "name": "ipython",
    "version": 3
   },
   "file_extension": ".py",
   "mimetype": "text/x-python",
   "name": "python",
   "nbconvert_exporter": "python",
   "pygments_lexer": "ipython3",
   "version": "3.10.10"
  },
  "orig_nbformat": 4
 },
 "nbformat": 4,
 "nbformat_minor": 2
}
